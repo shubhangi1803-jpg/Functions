{
  "nbformat": 4,
  "nbformat_minor": 0,
  "metadata": {
    "colab": {
      "provenance": []
    },
    "kernelspec": {
      "name": "python3",
      "display_name": "Python 3"
    },
    "language_info": {
      "name": "python"
    }
  },
  "cells": [
    {
      "cell_type": "markdown",
      "source": [
        "#Functions\n"
      ],
      "metadata": {
        "id": "df6mzyRVnYD2"
      }
    },
    {
      "cell_type": "markdown",
      "source": [
        "1. What is the difference between a function and a method in Python?\n",
        "- In Python, both functions and methods are blocks of reusable code designed to perform specific tasks, but their key difference lies in their association with classes and objects.\n",
        "->A function is a standalone block of code that is defined independently of any class.\n",
        "It operates on data passed to it as arguments and typically returns a result.\n",
        "Functions are generally used for general-purpose tasks or utility operations that do not inherently belong to a specific object.\n",
        "-> Wheereas in method,A method is a function that is defined within a class.\n",
        "It is associated with objects (instances) of that class and operates on the data (attributes) of those objects.\n",
        "Methods are called on an object using dot notation (e.g., object.method()).\n",
        "The first parameter of a method is conventionally self, which refers to the instance of the class on which the method is called, allowing the method to access and manipulate the object's attributes."
      ],
      "metadata": {
        "id": "RyXEVAo7newM"
      }
    },
    {
      "cell_type": "markdown",
      "source": [
        "2.Explain the concept of function arguments and parameters in Python.\n",
        "- Parameters: These are the variables listed inside the parentheses in a function's definition. They act as placeholders for the values that the function expects to receive when it is called. Parameters define the type and number of inputs a function can accept.\n",
        "- These are the actual values or expressions passed to a function when it is called. Arguments are assigned to the corresponding parameters in the function's definition."
      ],
      "metadata": {
        "id": "PxrdgMDxoJux"
      }
    },
    {
      "cell_type": "markdown",
      "source": [
        "3. What are the different ways to define and call a function in Python?\n",
        "- The primary way to define a function in Python is using the def keyword."
      ],
      "metadata": {
        "id": "BxB-PCLvouDs"
      }
    },
    {
      "cell_type": "markdown",
      "source": [
        "- def keyword: Initiates the function definition.\n",
        "-function_name: A unique identifier for the function, following Python's naming conventions.\n",
        "- () (Parentheses): Enclose the function's parameters. If there are no parameters, empty parentheses are still required.\n",
        "- : (Colon): Marks the end of the function signature.\n",
        "- Indentation: The code block belonging to the function must be indented consistently (typically 4 spaces).\n",
        "- Docstring (optional but recommended): A string literal immediately after the function signature, used to document the function's purpose.\n",
        "- return statement (optional): Used to send a value back to the caller. If omitted, the function implicitly returns None."
      ],
      "metadata": {
        "id": "gNoo84lxpEbY"
      }
    },
    {
      "cell_type": "markdown",
      "source": [
        "- Calling a Function:\n",
        "To execute the code within a defined function, you call it by its name followed by parentheses."
      ],
      "metadata": {
        "id": "YBHxNcy-r6mC"
      }
    },
    {
      "cell_type": "code",
      "source": [
        "function_name(argument1, argument2, ...)"
      ],
      "metadata": {
        "colab": {
          "base_uri": "https://localhost:8080/",
          "height": 141
        },
        "id": "rqPuFC5sr_VQ",
        "outputId": "9b97fbb9-75f5-4724-f7d4-488cad6c339d"
      },
      "execution_count": 15,
      "outputs": [
        {
          "output_type": "error",
          "ename": "NameError",
          "evalue": "name 'function_name' is not defined",
          "traceback": [
            "\u001b[0;31m---------------------------------------------------------------------------\u001b[0m",
            "\u001b[0;31mNameError\u001b[0m                                 Traceback (most recent call last)",
            "\u001b[0;32m/tmp/ipython-input-1151882672.py\u001b[0m in \u001b[0;36m<cell line: 0>\u001b[0;34m()\u001b[0m\n\u001b[0;32m----> 1\u001b[0;31m \u001b[0mfunction_name\u001b[0m\u001b[0;34m(\u001b[0m\u001b[0margument1\u001b[0m\u001b[0;34m,\u001b[0m \u001b[0margument2\u001b[0m\u001b[0;34m,\u001b[0m \u001b[0;34m...\u001b[0m\u001b[0;34m)\u001b[0m\u001b[0;34m\u001b[0m\u001b[0;34m\u001b[0m\u001b[0m\n\u001b[0m",
            "\u001b[0;31mNameError\u001b[0m: name 'function_name' is not defined"
          ]
        }
      ]
    },
    {
      "cell_type": "markdown",
      "source": [
        "function_name: The name of the function you wish to execute.\n",
        "- () (Parentheses): Enclose the arguments (actual values) passed to the function's parameters. The number and type of arguments should match the defined parameters."
      ],
      "metadata": {
        "id": "9-IlOlQ7sJbu"
      }
    },
    {
      "cell_type": "code",
      "source": [
        "#example\n",
        "def greet(name):\n",
        "    \"\"\"This function prints a personalized greeting.\"\"\"\n",
        "    print(f\"Hello, {name}!\")\n",
        "\n",
        "# Calling the function\n",
        "greet(\"Alice\")  # Output: Hello, Alice!\n",
        "\n",
        "# Calling a function that returns a value\n",
        "def add_numbers(a, b):\n",
        "    return a + b\n",
        "\n",
        "result = add_numbers(5, 3)\n",
        "print(result)  # Output: 8"
      ],
      "metadata": {
        "id": "GZ0o54-OsRqr"
      },
      "execution_count": null,
      "outputs": []
    },
    {
      "cell_type": "markdown",
      "source": [
        "4. What is the purpose of the `return` statement in a Python function?\n",
        "- The purpose of the return statement in a Python function is to send a value or set of values back to the caller of the function. When a return statement is encountered during function execution, the function immediately stops and the specified value(s) are passed back to the point in the code where the function was called."
      ],
      "metadata": {
        "id": "EiBnfP0nsXR3"
      }
    },
    {
      "cell_type": "markdown",
      "source": [
        "5. What are iterators in Python and how do they differ from iterables?\n",
        "- An iterator in Python is an object that contains a countable number of elements that can be iterated upon. In simpler words, we can say that Iterators are objects that allow you to traverse through all the elements of a collection and return one element at a time.\n",
        "- In essence, an iterable is the \"thing you can loop over,\" and an iterator is the \"tool that does the looping.\" Python's for loop internally uses the iter() function to get an iterator from an iterable and then repeatedly calls the iterator's __next__() method to get items until StopIteration is raised."
      ],
      "metadata": {
        "id": "uudP0Vq9ssTD"
      }
    },
    {
      "cell_type": "markdown",
      "source": [
        "6. Explain the concept of generators in Python and how they are defined.\n",
        "- In Python, a generator is a special type of function or expression that creates an iterator, allowing for the lazy evaluation of a sequence of values. This means values are produced one at a time, on demand, rather than being generated and stored in memory all at once. This makes generators particularly efficient for handling large datasets or infinite sequences, as they conserve memory.\n",
        "- A generator function is defined like a regular Python function using the def keyword, but instead of using return to send back a value and terminate, it uses the yield keyword. When yield is encountered, the function pauses, returns the yielded value, and saves its internal state (including local variables). When the generator is iterated over again (e.g., in a for loop or by calling next()), the function resumes execution from where it left off, continuing until the next yield or until the function finishes."
      ],
      "metadata": {
        "id": "zvt_uY4OtOhY"
      }
    },
    {
      "cell_type": "code",
      "source": [
        "    def count_up_to(n):\n",
        "        i = 1\n",
        "        while i <= n:\n",
        "            yield i\n",
        "            i += 1\n",
        "\n",
        "    # Using the generator function\n",
        "    my_generator = count_up_to(5)\n",
        "    for num in my_generator:\n",
        "        print(num)"
      ],
      "metadata": {
        "id": "3RbT-fh4tvET"
      },
      "execution_count": null,
      "outputs": []
    },
    {
      "cell_type": "markdown",
      "source": [
        "7.What are the advantages of using generators over regular functions?\n",
        "- There are many advantages to using generators in Python, such as improved memory management, time savings, and flexibility. Generators can also produce infinite sequences and are more readable than traditional loops.\n",
        "\n"
      ],
      "metadata": {
        "id": "lAWp1K2xt0r5"
      }
    },
    {
      "cell_type": "markdown",
      "source": [
        "8. What is a lambda function in Python and when is it typically used?\n",
        "- A lambda function in Python is a small, anonymous function defined using the lambda keyword. Unlike regular functions defined with def, lambda functions are restricted to a single expression, which is implicitly returned. They do not have a name, hence the term \"anonymous.\"\n",
        "- They are typically used for scenarios where a small, single-expression function is needed for a short period and defining a full def function would be overly verbose or unnecessary. Common use cases include:"
      ],
      "metadata": {
        "id": "JCmtXqVzubN5"
      }
    },
    {
      "cell_type": "markdown",
      "source": [
        "9.  Explain the purpose and usage of the `map()` function in Python.\n",
        "- The map() function in Python is a built-in function used to apply a specified function to each item in an iterable (such as a list, tuple, or string) and return a map object (an iterator) containing the results.\n",
        "- Purpose:\n",
        "- The primary purpose of map() is to simplify data transformation and processing by applying the same operation to every element within an iterable without requiring explicit loops. This can lead to more concise and readable code, especially when dealing with large datasets."
      ],
      "metadata": {
        "id": "6fXyic1Xu7Ny"
      }
    },
    {
      "cell_type": "markdown",
      "source": [
        "10.What is the difference between `map()`, `reduce()`, and `filter()` functions in Python?\n",
        "- The map(), reduce(), and filter() functions in Python are built-in tools for functional programming, each serving a distinct purpose in data manipulation:\n",
        "- map(function, iterable): This function applies a given function to every item in an iterable (like a list or tuple) and returns an iterator that yields the results. It is used for transformation, where you want to change each element of a sequence based on a specific rule."
      ],
      "metadata": {
        "id": "ru7b1KpavPQ9"
      }
    },
    {
      "cell_type": "code",
      "source": [
        "    numbers = [1, 2, 3, 4]\n",
        "    squared_numbers = list(map(lambda x: x * x, numbers))\n",
        "    print(squared_numbers) # Output: [1, 4, 9, 16]"
      ],
      "metadata": {
        "id": "o-_iXB3zwK6q"
      },
      "execution_count": null,
      "outputs": []
    },
    {
      "cell_type": "markdown",
      "source": [
        "- filter(function, iterable): This function constructs an iterator from elements of an iterable for which the function returns True. It is used for selection, where you want to pick out specific elements from a sequence that meet a certain condition."
      ],
      "metadata": {
        "id": "4I9vQSPzwNxs"
      }
    },
    {
      "cell_type": "code",
      "source": [
        "    numbers = [1, 2, 3, 4, 5, 6]\n",
        "    even_numbers = list(filter(lambda x: x % 2 == 0, numbers))\n",
        "    print(even_numbers) # Output: [2, 4, 6]"
      ],
      "metadata": {
        "id": "P4VFtq4-wcSm"
      },
      "execution_count": null,
      "outputs": []
    },
    {
      "cell_type": "markdown",
      "source": [
        "- reduce(function, iterable, initial_value): This function (found in the functools module) applies a rolling computation to sequential pairs of values in an iterable, reducing it to a single cumulative result. It is used for aggregation, where you want to combine elements of a sequence into a single value."
      ],
      "metadata": {
        "id": "KbaHlq0OwgKA"
      }
    },
    {
      "cell_type": "code",
      "source": [
        "    from functools import reduce\n",
        "\n",
        "    numbers = [1, 2, 3, 4]\n",
        "    product = reduce(lambda x, y: x * y, numbers)\n",
        "    print(product) # Output: 24 (1 * 2 * 3 * 4)"
      ],
      "metadata": {
        "id": "E4TK1jb9wpmv"
      },
      "execution_count": null,
      "outputs": []
    },
    {
      "cell_type": "markdown",
      "source": [
        "###Practical Questions\n"
      ],
      "metadata": {
        "id": "Ip59IWQvw2ol"
      }
    },
    {
      "cell_type": "markdown",
      "source": [
        "1.Write a Python function that takes a list of numbers as input and returns the sum of all even numbers in\n",
        "the list."
      ],
      "metadata": {
        "id": "I4wfvRoSx9Ks"
      }
    },
    {
      "cell_type": "code",
      "source": [
        "def sum_even_numbers(numbers_list):\n",
        "    \"\"\"\n",
        "    Calculates the sum of all even numbers in a given list of numbers.\n",
        "\n",
        "    Args:\n",
        "        numbers_list (list): A list of numerical values.\n",
        "\n",
        "    Returns:\n",
        "        int or float: The sum of all even numbers in the list.\n",
        "    \"\"\"\n",
        "    even_sum = 0\n",
        "    for number in numbers_list:\n",
        "        if number % 2 == 0:  # Check if the number is even\n",
        "            even_sum += number\n",
        "    return even_sum"
      ],
      "metadata": {
        "id": "zYKKBq00yDdQ"
      },
      "execution_count": 16,
      "outputs": []
    },
    {
      "cell_type": "markdown",
      "source": [
        "2. Create a Python function that accepts a string and returns the reverse of that string."
      ],
      "metadata": {
        "id": "ulizyWF-zlVC"
      }
    },
    {
      "cell_type": "code",
      "source": [
        "def reverse_string(input_string):\n",
        "  \"\"\"\n",
        "  Reverses a given string.\n",
        "\n",
        "  Args:\n",
        "    input_string: The string to be reversed.\n",
        "\n",
        "  Returns:\n",
        "    The reversed string.\n",
        "  \"\"\"\n",
        "  return input_string[::-1]"
      ],
      "metadata": {
        "id": "5a1RoTuXztLX"
      },
      "execution_count": 18,
      "outputs": []
    },
    {
      "cell_type": "markdown",
      "source": [
        "3.Implement a Python function that takes a list of integers and returns a new list containing the squares of\n",
        "each number."
      ],
      "metadata": {
        "id": "WpyGDM6oz21w"
      }
    },
    {
      "cell_type": "code",
      "source": [
        "def square_numbers(numbers):\n",
        "  \"\"\"\n",
        "  Takes a list of integers and returns a new list containing the squares of each number.\n",
        "\n",
        "  Args:\n",
        "    numbers: A list of integers.\n",
        "\n",
        "  Returns:\n",
        "    A new list containing the squares of each number in the input list.\n",
        "  \"\"\"\n",
        "  squared_numbers = [num ** 2 for num in numbers]\n",
        "  return squared_numbers\n",
        "\n",
        "# Example usage:\n",
        "my_list = [1, 2, 3, 4, 5]\n",
        "result_list = square_numbers(my_list)\n",
        "print(result_list)"
      ],
      "metadata": {
        "colab": {
          "base_uri": "https://localhost:8080/"
        },
        "id": "nrt4Z-AEz_P5",
        "outputId": "08a4f7a0-33e5-47df-9600-f1788ad22c4e"
      },
      "execution_count": 19,
      "outputs": [
        {
          "output_type": "stream",
          "name": "stdout",
          "text": [
            "[1, 4, 9, 16, 25]\n"
          ]
        }
      ]
    },
    {
      "cell_type": "markdown",
      "source": [
        "4.Write a Python function that checks if a given number is prime or not from 1 to 200."
      ],
      "metadata": {
        "id": "TdttRVhn0Eof"
      }
    },
    {
      "cell_type": "code",
      "source": [
        "import math\n",
        "\n",
        "def is_prime(number):\n",
        "    \"\"\"\n",
        "    Checks if a given number is prime.\n",
        "\n",
        "    Args:\n",
        "        number (int): The integer to be checked for primality.\n",
        "\n",
        "    Returns:\n",
        "        bool: True if the number is prime, False otherwise.\n",
        "    \"\"\"\n",
        "    if number <= 1:\n",
        "        return False  # Numbers less than or equal to 1 are not prime\n",
        "\n",
        "    # Iterate from 2 up to the square root of the number\n",
        "    # If a number has a divisor greater than its square root,\n",
        "    # it must also have a divisor smaller than its square root.\n",
        "    for i in range(2, int(math.sqrt(number)) + 1):\n",
        "        if number % i == 0:\n",
        "            return False  # Found a divisor, so it's not prime\n",
        "    return True  # No divisors found, so it's prime\n",
        "\n",
        "def check_primes_in_range(start, end):\n",
        "    \"\"\"\n",
        "    Checks and prints whether numbers in a given range are prime.\n",
        "\n",
        "    Args:\n",
        "        start (int): The starting number of the range (inclusive).\n",
        "        end (int): The ending number of the range (inclusive).\n",
        "    \"\"\"\n",
        "    print(f\"Checking prime numbers from {start} to {end}:\")\n",
        "    for num in range(start, end + 1):\n",
        "        if is_prime(num):\n",
        "            print(f\"{num} is prime.\")\n",
        "        else:\n",
        "            print(f\"{num} is not prime.\")\n",
        "\n",
        "# Example usage for numbers from 1 to 200\n",
        "check_primes_in_range(1, 200)"
      ],
      "metadata": {
        "colab": {
          "base_uri": "https://localhost:8080/"
        },
        "id": "r8WwycNq0NS1",
        "outputId": "08bce53f-4318-496a-a717-d89a073265e7"
      },
      "execution_count": 20,
      "outputs": [
        {
          "output_type": "stream",
          "name": "stdout",
          "text": [
            "Checking prime numbers from 1 to 200:\n",
            "1 is not prime.\n",
            "2 is prime.\n",
            "3 is prime.\n",
            "4 is not prime.\n",
            "5 is prime.\n",
            "6 is not prime.\n",
            "7 is prime.\n",
            "8 is not prime.\n",
            "9 is not prime.\n",
            "10 is not prime.\n",
            "11 is prime.\n",
            "12 is not prime.\n",
            "13 is prime.\n",
            "14 is not prime.\n",
            "15 is not prime.\n",
            "16 is not prime.\n",
            "17 is prime.\n",
            "18 is not prime.\n",
            "19 is prime.\n",
            "20 is not prime.\n",
            "21 is not prime.\n",
            "22 is not prime.\n",
            "23 is prime.\n",
            "24 is not prime.\n",
            "25 is not prime.\n",
            "26 is not prime.\n",
            "27 is not prime.\n",
            "28 is not prime.\n",
            "29 is prime.\n",
            "30 is not prime.\n",
            "31 is prime.\n",
            "32 is not prime.\n",
            "33 is not prime.\n",
            "34 is not prime.\n",
            "35 is not prime.\n",
            "36 is not prime.\n",
            "37 is prime.\n",
            "38 is not prime.\n",
            "39 is not prime.\n",
            "40 is not prime.\n",
            "41 is prime.\n",
            "42 is not prime.\n",
            "43 is prime.\n",
            "44 is not prime.\n",
            "45 is not prime.\n",
            "46 is not prime.\n",
            "47 is prime.\n",
            "48 is not prime.\n",
            "49 is not prime.\n",
            "50 is not prime.\n",
            "51 is not prime.\n",
            "52 is not prime.\n",
            "53 is prime.\n",
            "54 is not prime.\n",
            "55 is not prime.\n",
            "56 is not prime.\n",
            "57 is not prime.\n",
            "58 is not prime.\n",
            "59 is prime.\n",
            "60 is not prime.\n",
            "61 is prime.\n",
            "62 is not prime.\n",
            "63 is not prime.\n",
            "64 is not prime.\n",
            "65 is not prime.\n",
            "66 is not prime.\n",
            "67 is prime.\n",
            "68 is not prime.\n",
            "69 is not prime.\n",
            "70 is not prime.\n",
            "71 is prime.\n",
            "72 is not prime.\n",
            "73 is prime.\n",
            "74 is not prime.\n",
            "75 is not prime.\n",
            "76 is not prime.\n",
            "77 is not prime.\n",
            "78 is not prime.\n",
            "79 is prime.\n",
            "80 is not prime.\n",
            "81 is not prime.\n",
            "82 is not prime.\n",
            "83 is prime.\n",
            "84 is not prime.\n",
            "85 is not prime.\n",
            "86 is not prime.\n",
            "87 is not prime.\n",
            "88 is not prime.\n",
            "89 is prime.\n",
            "90 is not prime.\n",
            "91 is not prime.\n",
            "92 is not prime.\n",
            "93 is not prime.\n",
            "94 is not prime.\n",
            "95 is not prime.\n",
            "96 is not prime.\n",
            "97 is prime.\n",
            "98 is not prime.\n",
            "99 is not prime.\n",
            "100 is not prime.\n",
            "101 is prime.\n",
            "102 is not prime.\n",
            "103 is prime.\n",
            "104 is not prime.\n",
            "105 is not prime.\n",
            "106 is not prime.\n",
            "107 is prime.\n",
            "108 is not prime.\n",
            "109 is prime.\n",
            "110 is not prime.\n",
            "111 is not prime.\n",
            "112 is not prime.\n",
            "113 is prime.\n",
            "114 is not prime.\n",
            "115 is not prime.\n",
            "116 is not prime.\n",
            "117 is not prime.\n",
            "118 is not prime.\n",
            "119 is not prime.\n",
            "120 is not prime.\n",
            "121 is not prime.\n",
            "122 is not prime.\n",
            "123 is not prime.\n",
            "124 is not prime.\n",
            "125 is not prime.\n",
            "126 is not prime.\n",
            "127 is prime.\n",
            "128 is not prime.\n",
            "129 is not prime.\n",
            "130 is not prime.\n",
            "131 is prime.\n",
            "132 is not prime.\n",
            "133 is not prime.\n",
            "134 is not prime.\n",
            "135 is not prime.\n",
            "136 is not prime.\n",
            "137 is prime.\n",
            "138 is not prime.\n",
            "139 is prime.\n",
            "140 is not prime.\n",
            "141 is not prime.\n",
            "142 is not prime.\n",
            "143 is not prime.\n",
            "144 is not prime.\n",
            "145 is not prime.\n",
            "146 is not prime.\n",
            "147 is not prime.\n",
            "148 is not prime.\n",
            "149 is prime.\n",
            "150 is not prime.\n",
            "151 is prime.\n",
            "152 is not prime.\n",
            "153 is not prime.\n",
            "154 is not prime.\n",
            "155 is not prime.\n",
            "156 is not prime.\n",
            "157 is prime.\n",
            "158 is not prime.\n",
            "159 is not prime.\n",
            "160 is not prime.\n",
            "161 is not prime.\n",
            "162 is not prime.\n",
            "163 is prime.\n",
            "164 is not prime.\n",
            "165 is not prime.\n",
            "166 is not prime.\n",
            "167 is prime.\n",
            "168 is not prime.\n",
            "169 is not prime.\n",
            "170 is not prime.\n",
            "171 is not prime.\n",
            "172 is not prime.\n",
            "173 is prime.\n",
            "174 is not prime.\n",
            "175 is not prime.\n",
            "176 is not prime.\n",
            "177 is not prime.\n",
            "178 is not prime.\n",
            "179 is prime.\n",
            "180 is not prime.\n",
            "181 is prime.\n",
            "182 is not prime.\n",
            "183 is not prime.\n",
            "184 is not prime.\n",
            "185 is not prime.\n",
            "186 is not prime.\n",
            "187 is not prime.\n",
            "188 is not prime.\n",
            "189 is not prime.\n",
            "190 is not prime.\n",
            "191 is prime.\n",
            "192 is not prime.\n",
            "193 is prime.\n",
            "194 is not prime.\n",
            "195 is not prime.\n",
            "196 is not prime.\n",
            "197 is prime.\n",
            "198 is not prime.\n",
            "199 is prime.\n",
            "200 is not prime.\n"
          ]
        }
      ]
    },
    {
      "cell_type": "markdown",
      "source": [
        "5.  Create an iterator class in Python that generates the Fibonacci sequence up to a specified number of\n",
        "terms."
      ],
      "metadata": {
        "id": "BPCSUxwv0bm5"
      }
    },
    {
      "cell_type": "code",
      "source": [
        "class FibonacciIterator:\n",
        "    def __init__(self, num_terms):\n",
        "        if num_terms < 0:\n",
        "            raise ValueError(\"Number of terms must be a non-negative integer.\")\n",
        "        self._num_terms = num_terms\n",
        "        self._current_term_index = 0\n",
        "        self._a = 0  # First Fibonacci number\n",
        "        self._b = 1  # Second Fibonacci number\n",
        "\n",
        "    def __iter__(self):\n",
        "        return self\n",
        "\n",
        "    def __next__(self):\n",
        "        if self._current_term_index >= self._num_terms:\n",
        "            raise StopIteration\n",
        "\n",
        "        if self._current_term_index == 0:\n",
        "            self._current_term_index += 1\n",
        "            return 0\n",
        "        elif self._current_term_index == 1:\n",
        "            self._current_term_index += 1\n",
        "            return 1\n",
        "        else:\n",
        "            next_fib = self._a + self._b\n",
        "            self._a = self._b\n",
        "            self._b = next_fib\n",
        "            self._current_term_index += 1\n",
        "            return next_fib\n"
      ],
      "metadata": {
        "id": "PcMBIXA90hq-"
      },
      "execution_count": 22,
      "outputs": []
    },
    {
      "cell_type": "markdown",
      "source": [
        "6.Write a generator function in Python that yields the powers of 2 up to a given exponent."
      ],
      "metadata": {
        "id": "1QtyEBLd0vgp"
      }
    },
    {
      "cell_type": "code",
      "source": [
        "def powers_of_two(max_exponent):\n",
        "    \"\"\"\n",
        "    Yields powers of 2 up to a given maximum exponent (inclusive).\n",
        "\n",
        "    Args:\n",
        "        max_exponent (int): The maximum exponent for the powers of 2.\n",
        "                            Must be a non-negative integer.\n",
        "    \"\"\"\n",
        "    if not isinstance(max_exponent, int) or max_exponent < 0:\n",
        "        raise ValueError(\"max_exponent must be a non-negative integer.\")\n",
        "\n",
        "    current_exponent = 0\n",
        "    while current_exponent <= max_exponent:\n",
        "        yield 2 ** current_exponent\n",
        "        current_exponent += 1"
      ],
      "metadata": {
        "id": "cr8o1C-h00or"
      },
      "execution_count": 24,
      "outputs": []
    },
    {
      "cell_type": "markdown",
      "source": [
        "7. Implement a generator function that reads a file line by line and yields each line as a string."
      ],
      "metadata": {
        "id": "JHe2hl6206JP"
      }
    },
    {
      "cell_type": "code",
      "source": [
        "def read_file_line_by_line(file_path):\n",
        "    \"\"\"\n",
        "    Reads a file line by line and yields each line as a string.\n",
        "\n",
        "    Args:\n",
        "        file_path (str): The path to the file to be read.\n",
        "\n",
        "    Yields:\n",
        "        str: Each line of the file as a string, including the newline character\n",
        "             if present in the original file.\n",
        "    \"\"\"\n",
        "    try:\n",
        "        with open(file_path, 'r') as file:\n",
        "            for line in file:\n",
        "                yield line\n",
        "    except FileNotFoundError:\n",
        "        print(f\"Error: The file '{file_path}' was not found.\")\n",
        "    except Exception as e:\n",
        "        print(f\"An error occurred: {e}\")\n",
        "\n",
        "# Example Usage:\n",
        "# Create a dummy file for demonstration\n",
        "with open(\"example.txt\", \"w\") as f:\n",
        "    f.write(\"This is line 1.\\n\")\n",
        "    f.write(\"This is line 2.\\n\")\n",
        "    f.write(\"This is line 3.\")\n",
        "\n",
        "# Use the generator to read the file\n",
        "print(\"Reading 'example.txt' line by line:\")\n",
        "for line in read_file_line_by_line(\"example.txt\"):\n",
        "    print(line.strip()) # .strip() removes leading/trailing whitespace, including newline\n",
        "\n",
        "print(\"\\nAttempting to read a non-existent file:\")\n",
        "for line in read_file_line_by_line(\"non_existent_file.txt\"):\n",
        "    print(line)"
      ],
      "metadata": {
        "colab": {
          "base_uri": "https://localhost:8080/"
        },
        "id": "hN9IA4EL1BWO",
        "outputId": "f00a3e18-6ab9-4230-8caa-92a0816d0cb3"
      },
      "execution_count": 25,
      "outputs": [
        {
          "output_type": "stream",
          "name": "stdout",
          "text": [
            "Reading 'example.txt' line by line:\n",
            "This is line 1.\n",
            "This is line 2.\n",
            "This is line 3.\n",
            "\n",
            "Attempting to read a non-existent file:\n",
            "Error: The file 'non_existent_file.txt' was not found.\n"
          ]
        }
      ]
    },
    {
      "cell_type": "markdown",
      "source": [
        "8.Use a lambda function in Python to sort a list of tuples based on the second element of each tuple."
      ],
      "metadata": {
        "id": "FLFz_hNY1Ki5"
      }
    },
    {
      "cell_type": "code",
      "source": [
        "my_list = [('apple', 3), ('banana', 1), ('cherry', 2), ('date', 4)]\n",
        "my_list.sort(key=lambda x: x[1])\n",
        "print(my_list)"
      ],
      "metadata": {
        "colab": {
          "base_uri": "https://localhost:8080/"
        },
        "id": "09ZljTe31Wd3",
        "outputId": "93ef85a5-7c58-4881-cb1b-79aa4d5cb3e7"
      },
      "execution_count": 26,
      "outputs": [
        {
          "output_type": "stream",
          "name": "stdout",
          "text": [
            "[('banana', 1), ('cherry', 2), ('apple', 3), ('date', 4)]\n"
          ]
        }
      ]
    },
    {
      "cell_type": "markdown",
      "source": [
        "9.Write a Python program that uses `map()` to convert a list of temperatures from Celsius to Fahrenheit."
      ],
      "metadata": {
        "id": "fp9OyFGM1bvf"
      }
    },
    {
      "cell_type": "code",
      "source": [
        "def celsius_to_fahrenheit(celsius_temp):\n",
        "  \"\"\"Converts a temperature from Celsius to Fahrenheit.\"\"\"\n",
        "  return (celsius_temp * 9/5) + 32\n",
        "\n",
        "# List of temperatures in Celsius\n",
        "celsius_temperatures = [0, 10, 25, 37.8, 100]\n",
        "\n",
        "# Use map() to convert each Celsius temperature to Fahrenheit\n",
        "fahrenheit_temperatures_iterator = map(celsius_to_fahrenheit, celsius_temperatures)\n",
        "\n",
        "# Convert the iterator to a list for easy viewing\n",
        "fahrenheit_temperatures = list(fahrenheit_temperatures_iterator)\n",
        "\n",
        "# Print the results\n",
        "print(f\"Celsius Temperatures: {celsius_temperatures}\")\n",
        "print(f\"Fahrenheit Temperatures: {fahrenheit_temperatures}\")"
      ],
      "metadata": {
        "colab": {
          "base_uri": "https://localhost:8080/"
        },
        "id": "Z5E051o_1jWA",
        "outputId": "4772e4ab-c4b1-447c-8e91-11db5d4641ab"
      },
      "execution_count": 27,
      "outputs": [
        {
          "output_type": "stream",
          "name": "stdout",
          "text": [
            "Celsius Temperatures: [0, 10, 25, 37.8, 100]\n",
            "Fahrenheit Temperatures: [32.0, 50.0, 77.0, 100.03999999999999, 212.0]\n"
          ]
        }
      ]
    },
    {
      "cell_type": "markdown",
      "source": [
        "10. Create a Python program that uses `filter()` to remove all the vowels from a given string."
      ],
      "metadata": {
        "id": "uSvHoxaM1trn"
      }
    },
    {
      "cell_type": "code",
      "source": [
        "import re\n",
        "def rem_vowel(string):\n",
        "    return (re.sub(\"[aeiouAEIOU]\",\"\",string))\n",
        "string = \"Ram is a boy\"\n",
        "print(rem_vowel(string))"
      ],
      "metadata": {
        "colab": {
          "base_uri": "https://localhost:8080/"
        },
        "id": "m3P5_UyI1y5H",
        "outputId": "4a09c504-3af0-4b3d-fd04-ece9ee807393"
      },
      "execution_count": 28,
      "outputs": [
        {
          "output_type": "stream",
          "name": "stdout",
          "text": [
            "Rm s  by\n"
          ]
        }
      ]
    },
    {
      "cell_type": "markdown",
      "source": [
        "11. Imagine an accounting routine used in a book shop. It works on a list with sublists, which look like this:\n",
        "-Order Number  Book Title And Author              Quantity      Price Per Item\n",
        "-34587        Learning Python,Mark Lutz               4           40.95\n",
        "-98762        Programming Python, Mark Lutz           5           56.80\n",
        "-77226        Head First Pyhton, Paul Barry           3           32.95\n",
        "-88112        Einfuhrung in python3,Bernd Klein       3           24.99\n",
        "Write a Python program, which returns a list with 2-tuples. Each tuple consists of the order number and the\n",
        "product of the price per item and the quantity. The product should be increased by 10,- € if the value of the\n",
        "order is smaller than 100,00 €.\n",
        "\n",
        "Write a Python program using lambda and map.\n",
        "\n",
        "\n",
        "\n",
        "\n",
        "\n",
        "\n",
        "\n"
      ],
      "metadata": {
        "id": "7LhfyqNH26_b"
      }
    },
    {
      "cell_type": "code",
      "source": [
        "orders = [\n",
        "    [34587, 'Learning Python, Mark Lutz', 4, 40.95],\n",
        "    [98762, 'Programming Python, Mark Lutz', 5, 56.80],\n",
        "    [77226, 'Head First Python, Paul Barry', 3, 32.95],\n",
        "    [88112, 'Einführung in Python3, Bernd Klein', 7, 24.99]\n",
        "]\n",
        "\n",
        "# Define a lambda function to calculate the order value and apply the surcharge\n",
        "# The lambda function takes an order (a sublist) as input.\n",
        "# It returns a tuple: (order number, calculated order value).\n",
        "# The calculated order value is the product of quantity (index 2) and price per item (index 3).\n",
        "# If the product is less than 100, a surcharge of 10 is added.\n",
        "calculate_order_value = lambda order: (order[0], order[2] * order[3] + 10 if (order[2] * order[3]) < 100 else order[2] * order[3])\n",
        "\n",
        "# Use map to apply the lambda function to each order in the list\n",
        "result = list(map(calculate_order_value, orders))\n",
        "\n",
        "# Print the result\n",
        "print(result)"
      ],
      "metadata": {
        "colab": {
          "base_uri": "https://localhost:8080/"
        },
        "id": "YJF5s_2f6D88",
        "outputId": "2c833a3b-d153-472f-cfff-32ec13597ede"
      },
      "execution_count": 31,
      "outputs": [
        {
          "output_type": "stream",
          "name": "stdout",
          "text": [
            "[(34587, 163.8), (98762, 284.0), (77226, 108.85000000000001), (88112, 174.92999999999998)]\n"
          ]
        }
      ]
    }
  ]
}